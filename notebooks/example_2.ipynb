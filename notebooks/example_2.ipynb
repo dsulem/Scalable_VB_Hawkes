{
 "cells": [
  {
   "cell_type": "markdown",
   "source": [
    "# Example for applying the adaptive variational algorithm on simulated data"
   ],
   "metadata": {
    "collapsed": false,
    "pycharm": {
     "name": "#%% md\n"
    }
   }
  },
  {
   "cell_type": "code",
   "execution_count": 17,
   "outputs": [],
   "source": [
    "import copy\n",
    "import os\n",
    "import sys\n",
    "module_path = os.path.abspath(os.path.join('..'))\n",
    "module_path_2 = os.path.abspath(os.path.join('../..'))\n",
    "module_path_3 = os.path.abspath(os.path.join('./Scalable_VB_Hawkes/'))\n",
    "module_path_4 = os.path.abspath(os.path.join('./NHGPS/'))\n",
    "if module_path not in sys.path:\n",
    "    sys.path.append(module_path)\n",
    "if module_path_2 not in sys.path:\n",
    "    sys.path.append(module_path_2)\n",
    "if module_path_3 not in sys.path:\n",
    "    sys.path.append(module_path_3)\n",
    "if module_path_4 not in sys.path:\n",
    "    sys.path.append(module_path_4)\n",
    "\n",
    "from src.NL_hawkes import NonlinHawkesBasis, LinkFunction\n",
    "from src.utils import nb_excursions, gq_points_weights, nd_block_diag, intensity_process, log_likelihood\n",
    "\n",
    "import numpy as np\n",
    "import pandas as pd\n",
    "import matplotlib.pyplot as plt\n",
    "import matplotlib.gridspec as gridspec\n",
    "import scipy\n",
    "from scipy.stats import gamma, norm, beta\n",
    "from time import time\n",
    "from scipy.special import expit\n",
    "pd.options.display.float_format = '{:,.2f}'.format\n",
    "np.set_printoptions(precision=2)\n",
    "from scipy import optimize\n",
    "import json\n",
    "import pickle\n",
    "import arviz as az\n",
    "from types import SimpleNamespace\n",
    "from pathlib import PosixPath\n",
    "import yaml"
   ],
   "metadata": {
    "collapsed": false,
    "pycharm": {
     "name": "#%%\n"
    }
   }
  },
  {
   "cell_type": "markdown",
   "source": [
    "### Create simulated data set"
   ],
   "metadata": {
    "collapsed": false,
    "pycharm": {
     "name": "#%% md\n"
    }
   }
  },
  {
   "cell_type": "code",
   "execution_count": 2,
   "outputs": [],
   "source": [
    "# General parameters\n",
    "number_of_dimensions=1\n",
    "number_of_basis=4\n",
    "A=0.1\n",
    "basis='histogram'\n",
    "T=50\n",
    "nl_models = {\n",
    "    \"sigmoid\": {\"theta\": 0.0, \"beta\": 0.2, \"eta\": 10.0, \"lamda\":20.0 },\n",
    "}\n",
    "link = 'sigmoid'"
   ],
   "metadata": {
    "collapsed": false,
    "pycharm": {
     "name": "#%%\n"
    }
   }
  },
  {
   "cell_type": "code",
   "execution_count": 3,
   "outputs": [
    {
     "name": "stdout",
     "output_type": "stream",
     "text": [
      "Number of model parameters :  5\n"
     ]
    }
   ],
   "source": [
    "# Model parameters\n",
    "if number_of_dimensions > 1:\n",
    "    base_activation = np.array([5., 4.0] * (number_of_dimensions // 2) ) # background rates\n",
    "    graph_2D = np.array([[1, 1],[0, 1]], dtype=np.int64)\n",
    "    graph = scipy.linalg.block_diag(*([graph_2D] * (number_of_dimensions //2))) # graph of interaction\n",
    "    full_graph = np.ones((number_of_dimensions,number_of_dimensions), dtype=int)\n",
    "    w01 = np.linspace(3,2,num=number_of_basis).reshape(1,-1)\n",
    "    w02 = np.linspace(2,1,num=number_of_basis).reshape(1,-1)\n",
    "    w03 = np.linspace(-3,-2,num=number_of_basis).reshape(1,-1)\n",
    "    block_exc = np.concatenate([w01, w02, w02, w01], axis=0).reshape(2, 2, -1)\n",
    "    block_inh = np.concatenate([w03, w02, w02, w03], axis=0).reshape(2, 2, -1)\n",
    "    weight = {\n",
    "        'exc': nd_block_diag([block_exc]*(number_of_dimensions//2)),\n",
    "        'inh':  nd_block_diag([block_inh]*(number_of_dimensions//2)),\n",
    "        }\n",
    "else:\n",
    "    base_activation = np.array([5.] )\n",
    "    graph = np.array([[1]])\n",
    "    w01 = np.linspace(3,2,num=number_of_basis).reshape(1,-1)\n",
    "    w02 = np.linspace(2,1,num=number_of_basis).reshape(1,-1)\n",
    "    w03 = np.linspace(-3,-2,num=number_of_basis).reshape(1,-1)\n",
    "    block_exc = np.concatenate([w01, w02, w02, w01], axis=0).reshape(2, 2, -1)\n",
    "    block_inh = np.concatenate([w03, w02, w02, w03], axis=0).reshape(2, 2, -1)\n",
    "    weight = {\n",
    "        'exc': w01,\n",
    "        'inh': w03,\n",
    "        }\n",
    "\n",
    "N_param = len(base_activation) + weight['exc'].size\n",
    "print(\"Number of model parameters : \", N_param)\n",
    "\n",
    "# Choose scenario: excitation or inhibition\n",
    "scenario = 'inh'\n",
    "\n",
    "# Interaction functions\n",
    "sparse_weight = np.expand_dims(graph, axis=2) * weight[scenario]"
   ],
   "metadata": {
    "collapsed": false,
    "pycharm": {
     "name": "#%%\n"
    }
   }
  },
  {
   "cell_type": "code",
   "execution_count": 4,
   "outputs": [
    {
     "name": "stdout",
     "output_type": "stream",
     "text": [
      "Time for simulating the process: 0.1366729736328125 sec\n",
      "Number of events :  195\n",
      "Number of excursions :  133\n"
     ]
    }
   ],
   "source": [
    "# Initialise and simulate from process\n",
    "model = SimpleNamespace(**nl_models[link])\n",
    "t0 = time()\n",
    "hawkes_model = NonlinHawkesBasis(number_of_dimensions, number_of_basis, A, model=link, basis=basis,\n",
    "                              theta=model.theta, beta=model.beta, lamda=model.lamda, eta=model.eta)\n",
    "hawkes_model.set_hawkes_parameters(base_activation, sparse_weight)\n",
    "points_hawkes = hawkes_model.simulation(T=T)\n",
    "\n",
    "# Remove \"initial condition\" to observe stationary distribution\n",
    "T_init = 10\n",
    "T = T - T_init\n",
    "for d in range(len(points_hawkes)):\n",
    "    points_hawkes[d] = points_hawkes[d][points_hawkes[d] > T_init] - T_init\n",
    "\n",
    "# number of points on each dimension\n",
    "N = np.array([len(points_hawkes[i]) for i in range(number_of_dimensions)])\n",
    "\n",
    "print(f'Time for simulating the process: {time() - t0} sec')\n",
    "print(f\"Number of events : \", np.sum(N))\n",
    "print(f\"Number of excursions : \", nb_excursions(points_hawkes, A))"
   ],
   "metadata": {
    "collapsed": false,
    "pycharm": {
     "name": "#%%\n"
    }
   }
  },
  {
   "cell_type": "code",
   "execution_count": 5,
   "outputs": [],
   "source": [
    "# Save dataset\n",
    "save_dir_data = f'/data/hylacola/sulem/PycharmProjects/Scalable_VB_Hawkes/data/synthetic_data/dataset_histo_dim{number_of_dimensions}/'\n",
    "save_dir_data = PosixPath(save_dir_data).expanduser()\n",
    "if not os.path.isdir(save_dir_data):\n",
    "    os.makedirs(save_dir_data)\n",
    "with open(save_dir_data / f'data.p', 'wb') as fp:\n",
    "    pickle.dump(points_hawkes, fp)"
   ],
   "metadata": {
    "collapsed": false,
    "pycharm": {
     "name": "#%%\n"
    }
   }
  },
  {
   "cell_type": "markdown",
   "source": [
    "### Apply inference method"
   ],
   "metadata": {
    "collapsed": false,
    "pycharm": {
     "name": "#%% md\n"
    }
   }
  },
  {
   "cell_type": "code",
   "execution_count": 6,
   "outputs": [
    {
     "name": "stderr",
     "output_type": "stream",
     "text": [
      "WARNING:jax._src.lib.xla_bridge:No GPU/TPU found, falling back to CPU. (Set TF_CPP_MIN_LOG_LEVEL=0 and rerun for more info.)\n"
     ]
    },
    {
     "name": "stdout",
     "output_type": "stream",
     "text": [
      "[CpuDevice(id=0)]\n",
      "20230105-141009 ./Scalable_VB_Hawkes/data/synthetic_data/dataset_histo_dim1/input.yml\n",
      "False\n",
      "./Scalable_VB_Hawkes/results/synthetic_data/histo_dim1/20230105-141009\n",
      "reading the following settings file: ./Scalable_VB_Hawkes/data/synthetic_data/dataset_histo_dim1/settings.yml\n",
      "placing inducing points\n",
      "placing integration points\n",
      "init kernels\n",
      "init mus and sigs\n"
     ]
    }
   ],
   "source": [
    "# Comparison with GP\n",
    "# Run inference\n",
    "yml_settings_file = f'./Scalable_VB_Hawkes/data/synthetic_data/dataset_histo_dim{number_of_dimensions}/input.yml'\n",
    "res_dir = f'./Scalable_VB_Hawkes/results/synthetic_data/histo_dim{number_of_dimensions}/'\n",
    "%run ./NHGPS/Experiments/inference/run.py --yml_file $yml_settings_file --output_path $res_dir"
   ],
   "metadata": {
    "collapsed": false,
    "pycharm": {
     "name": "#%%\n"
    }
   }
  },
  {
   "cell_type": "code",
   "execution_count": 7,
   "outputs": [
    {
     "name": "stdout",
     "output_type": "stream",
     "text": [
      "1\n"
     ]
    }
   ],
   "source": [
    "# Compute estimated VP\n",
    "%run ./NHGPS/Experiments/estimate_s_g/run.py --yml_file $yml_settings_file --output_path $res_dir"
   ],
   "metadata": {
    "collapsed": false,
    "pycharm": {
     "name": "#%%\n"
    }
   }
  },
  {
   "cell_type": "code",
   "execution_count": 8,
   "outputs": [
    {
     "name": "stdout",
     "output_type": "stream",
     "text": [
      "./Scalable_VB_Hawkes/results/synthetic_data/histo_dim1/20230105-141025\n",
      "Num trials:  1\n",
      "0\n",
      "1\n",
      "2\n",
      "3\n",
      "4\n",
      "5\n",
      "6\n",
      "7\n",
      "8\n",
      "9\n",
      "10\n",
      "11\n",
      "12\n",
      "13\n",
      "14\n",
      "15\n",
      "16\n",
      "17\n",
      "18\n",
      "19\n",
      "20\n",
      "21\n",
      "22\n",
      "23\n",
      "24\n",
      "25\n",
      "26\n",
      "27\n",
      "28\n",
      "29\n",
      "30\n",
      "31\n",
      "32\n",
      "33\n",
      "34\n",
      "35\n",
      "36\n",
      "37\n",
      "38\n",
      "39\n",
      "40\n",
      "41\n",
      "42\n",
      "43\n",
      "44\n",
      "45\n",
      "46\n",
      "47\n",
      "48\n",
      "49\n",
      "50\n",
      "51\n",
      "52\n",
      "53\n",
      "54\n",
      "55\n",
      "56\n",
      "57\n",
      "58\n",
      "59\n",
      "60\n",
      "61\n",
      "62\n",
      "63\n",
      "64\n",
      "65\n",
      "66\n",
      "67\n",
      "68\n",
      "69\n",
      "70\n",
      "71\n",
      "72\n",
      "73\n",
      "74\n",
      "75\n",
      "76\n",
      "77\n",
      "78\n",
      "79\n",
      "80\n",
      "81\n",
      "82\n",
      "83\n",
      "84\n",
      "85\n",
      "86\n",
      "87\n",
      "88\n",
      "89\n",
      "90\n",
      "91\n",
      "92\n",
      "93\n",
      "94\n",
      "95\n",
      "96\n",
      "97\n",
      "98\n",
      "99\n",
      "100\n",
      "101\n",
      "102\n",
      "103\n",
      "104\n",
      "105\n",
      "106\n",
      "107\n",
      "108\n",
      "109\n",
      "110\n",
      "111\n",
      "112\n",
      "113\n",
      "114\n",
      "115\n",
      "116\n",
      "117\n",
      "118\n",
      "119\n",
      "120\n",
      "121\n",
      "122\n",
      "123\n",
      "124\n",
      "125\n",
      "126\n",
      "127\n",
      "128\n",
      "129\n",
      "130\n",
      "131\n",
      "132\n",
      "133\n",
      "134\n",
      "135\n",
      "136\n",
      "137\n",
      "138\n",
      "139\n",
      "140\n",
      "141\n",
      "142\n",
      "143\n",
      "144\n",
      "145\n",
      "146\n",
      "147\n",
      "148\n",
      "149\n",
      "150\n",
      "151\n",
      "152\n",
      "153\n",
      "154\n",
      "155\n",
      "156\n",
      "157\n",
      "158\n",
      "159\n",
      "160\n",
      "161\n",
      "162\n",
      "163\n",
      "164\n",
      "165\n",
      "166\n",
      "167\n",
      "168\n",
      "169\n",
      "170\n",
      "171\n",
      "172\n",
      "173\n",
      "174\n",
      "175\n",
      "176\n",
      "177\n",
      "178\n",
      "179\n",
      "180\n",
      "181\n",
      "182\n",
      "183\n",
      "184\n",
      "185\n",
      "186\n",
      "187\n",
      "188\n",
      "189\n",
      "190\n",
      "191\n",
      "192\n",
      "193\n",
      "194\n",
      "195\n",
      "196\n",
      "197\n",
      "198\n",
      "199\n",
      "200\n",
      "201\n",
      "202\n",
      "203\n",
      "204\n",
      "205\n",
      "206\n",
      "207\n",
      "208\n",
      "209\n",
      "210\n",
      "211\n",
      "212\n",
      "213\n",
      "214\n",
      "215\n",
      "216\n",
      "217\n",
      "218\n",
      "219\n",
      "220\n",
      "221\n",
      "222\n",
      "223\n",
      "224\n",
      "225\n",
      "226\n",
      "227\n",
      "228\n",
      "229\n",
      "230\n",
      "231\n",
      "232\n",
      "233\n",
      "234\n",
      "235\n",
      "236\n",
      "237\n",
      "238\n",
      "239\n",
      "240\n",
      "241\n",
      "242\n",
      "243\n",
      "244\n",
      "245\n",
      "246\n",
      "247\n",
      "248\n",
      "249\n",
      "250\n",
      "251\n",
      "252\n",
      "253\n",
      "254\n",
      "255\n",
      "256\n",
      "257\n",
      "258\n",
      "259\n",
      "260\n",
      "261\n",
      "262\n",
      "263\n",
      "264\n",
      "265\n",
      "266\n",
      "267\n",
      "268\n",
      "269\n",
      "270\n",
      "271\n",
      "272\n",
      "273\n",
      "274\n",
      "275\n",
      "276\n",
      "277\n",
      "278\n",
      "279\n",
      "280\n",
      "281\n",
      "282\n",
      "283\n",
      "284\n",
      "285\n",
      "286\n",
      "287\n",
      "288\n",
      "289\n",
      "290\n",
      "291\n",
      "292\n",
      "293\n",
      "294\n",
      "295\n",
      "296\n",
      "297\n",
      "298\n",
      "299\n",
      "300\n",
      "301\n",
      "302\n",
      "303\n",
      "304\n",
      "305\n",
      "306\n",
      "307\n",
      "308\n",
      "309\n",
      "310\n",
      "311\n",
      "312\n",
      "313\n",
      "314\n",
      "315\n",
      "316\n",
      "317\n",
      "318\n",
      "319\n",
      "320\n",
      "321\n",
      "322\n",
      "323\n",
      "324\n",
      "325\n",
      "326\n",
      "327\n",
      "328\n",
      "329\n",
      "330\n",
      "331\n",
      "332\n",
      "333\n",
      "334\n",
      "335\n",
      "336\n",
      "337\n",
      "338\n",
      "339\n",
      "340\n",
      "341\n",
      "342\n",
      "343\n",
      "344\n",
      "345\n",
      "346\n",
      "347\n",
      "348\n",
      "349\n",
      "350\n",
      "351\n",
      "352\n",
      "353\n",
      "354\n",
      "355\n",
      "356\n",
      "357\n",
      "358\n",
      "359\n",
      "360\n",
      "361\n",
      "362\n",
      "363\n",
      "364\n",
      "365\n",
      "366\n",
      "367\n",
      "368\n",
      "369\n",
      "370\n",
      "371\n",
      "372\n",
      "373\n",
      "374\n",
      "375\n",
      "376\n",
      "377\n",
      "378\n",
      "379\n",
      "380\n",
      "381\n",
      "382\n",
      "383\n",
      "384\n",
      "385\n",
      "386\n",
      "387\n",
      "388\n",
      "389\n",
      "390\n",
      "391\n",
      "392\n",
      "393\n",
      "394\n",
      "395\n",
      "396\n",
      "397\n",
      "398\n",
      "399\n",
      "400\n",
      "401\n",
      "402\n",
      "403\n",
      "404\n",
      "405\n",
      "406\n",
      "407\n",
      "408\n",
      "409\n",
      "410\n",
      "411\n",
      "412\n",
      "413\n",
      "414\n",
      "415\n",
      "416\n",
      "417\n",
      "418\n",
      "419\n",
      "420\n",
      "421\n",
      "422\n",
      "423\n",
      "424\n",
      "425\n",
      "426\n",
      "427\n",
      "428\n",
      "429\n",
      "430\n",
      "431\n",
      "432\n",
      "433\n",
      "434\n",
      "435\n",
      "436\n",
      "437\n",
      "438\n",
      "439\n",
      "440\n",
      "441\n",
      "442\n",
      "443\n",
      "444\n",
      "445\n",
      "446\n",
      "447\n",
      "448\n",
      "449\n",
      "450\n",
      "451\n",
      "452\n",
      "453\n",
      "454\n",
      "455\n",
      "456\n",
      "457\n",
      "458\n",
      "459\n",
      "460\n",
      "461\n",
      "462\n",
      "463\n",
      "464\n",
      "465\n",
      "466\n",
      "467\n",
      "468\n",
      "469\n",
      "470\n",
      "471\n",
      "472\n",
      "473\n",
      "474\n",
      "475\n",
      "476\n",
      "477\n",
      "478\n",
      "479\n",
      "480\n",
      "481\n",
      "482\n",
      "483\n",
      "484\n",
      "485\n",
      "486\n",
      "487\n",
      "488\n",
      "489\n",
      "490\n",
      "491\n",
      "492\n",
      "493\n",
      "494\n",
      "495\n",
      "496\n",
      "497\n",
      "498\n",
      "499\n"
     ]
    }
   ],
   "source": [
    "# Compute estimated intensity\n",
    "%run ./NHGPS/Experiments/calculate_predictive_intensity/run.py --yml_file $yml_settings_file --output_path $res_dir"
   ],
   "metadata": {
    "collapsed": false,
    "pycharm": {
     "name": "#%%\n"
    }
   }
  },
  {
   "cell_type": "code",
   "execution_count": 9,
   "outputs": [],
   "source": [
    "# Load results\n",
    "folder_path = './Scalable_VB_Hawkes/results/synthetic_data/histo_dim1/20230105-135000'\n",
    "folder_path_2 = './Scalable_VB_Hawkes/results/synthetic_data/histo_dim1/20230105-135000'\n",
    "inf_file = 'inference_results.p'\n",
    "s_g_file = 's_g_res.p'\n",
    "gen_data_file = 'data.p'\n",
    "data_input_file = 'data_input.yml' # ground truth parameter and inference settings\n",
    "\n",
    "with open(os.path.join(folder_path, inf_file), 'rb') as f:\n",
    "    res = pickle.load(f)\n",
    "LB_list, mu_g_X, mu_g2_X, hyper_params_list, \\\n",
    " induced_points, integration_points, Kss_inv, ks_int_points, \\\n",
    " ks_X, real_events, Sigma_g_s, mu_g_s, lmbda_star_q1, \\\n",
    " alpha_q1, beta_q1 = res\n",
    "\n",
    "with open(os.path.join(folder_path, s_g_file), 'rb') as f:\n",
    "    grid, s, g, cov_s, cov_g = pickle.load(f)\n",
    "\n",
    "    # s: estimated mean GP values for the time-varying background rate\n",
    "    # cov_s: estimated cov matrix of GP\n",
    "\n",
    "    # g and cov_g: same for interaction functions\n",
    "var_g = np.maximum(1e-12, np.diag(cov_g)) # avoids numerical errors\n",
    "var_s = np.maximum(1e-12, np.diag(cov_s))\n",
    "\n",
    "with open(os.path.join(folder_path, gen_data_file), 'rb') as f:\n",
    "    gen_data = pickle.load(f)\n",
    "\n",
    "with open(os.path.join(folder_path, data_input_file), 'r') as stream:\n",
    "    config = yaml.safe_load(stream)\n",
    "    time_bound = config.get('time_bound')\n",
    "    memory_decay = config.get('memory_decay')\n",
    "\n",
    "vi_pred_int = os.path.join(folder_path_2, 'pred_int_res_.p')\n",
    "with open(vi_pred_int, 'rb') as f:\n",
    "    vi_grid, predictive_intensities_vi_mean, predictive_intensities_vi_var = pickle.load(f)"
   ],
   "metadata": {
    "collapsed": false,
    "pycharm": {
     "name": "#%%\n"
    }
   }
  },
  {
   "cell_type": "code",
   "execution_count": 10,
   "outputs": [
    {
     "data": {
      "text/plain": "[<matplotlib.lines.Line2D at 0x7f9d6878e050>]"
     },
     "execution_count": 10,
     "metadata": {},
     "output_type": "execute_result"
    },
    {
     "data": {
      "text/plain": "<Figure size 640x480 with 1 Axes>",
      "image/png": "[encoded data removed]"
     },
     "metadata": {},
     "output_type": "display_data"
    }
   ],
   "source": [
    "x = np.linspace(0,1.0,100)\n",
    "y = np.exp(-10.0*x)\n",
    "plt.plot(x,y)"
   ],
   "metadata": {
    "collapsed": false,
    "pycharm": {
     "name": "#%%\n"
    }
   }
  },
  {
   "cell_type": "code",
   "execution_count": 11,
   "outputs": [
    {
     "data": {
      "text/plain": "<matplotlib.legend.Legend at 0x7f9dac55e5c0>"
     },
     "execution_count": 11,
     "metadata": {},
     "output_type": "execute_result"
    },
    {
     "data": {
      "text/plain": "<Figure size 600x300 with 1 Axes>",
      "image/png": "[encoded data removed]"
     },
     "metadata": {},
     "output_type": "display_data"
    }
   ],
   "source": [
    "fig = plt.figure(figsize=(6,3))\n",
    "gs = gridspec.GridSpec(1, 1)\n",
    "gs.update(wspace=0.25, hspace=0.25)\n",
    "ax1 = fig.add_subplot(gs[0, :2])\n",
    "#ax1.plot(grid.flatten(), gt_pred_int.flatten(), label='Ground Truth', color='C3')\n",
    "ax1.plot(vi_grid.flatten(), predictive_intensities_vi_mean, label='VI', color='#2ca02c')\n",
    "#ax1.plot(real_events, np.zeros(0, len(real_events)), '|', color='C7', label='Observations')\n",
    "ax1.set_xlabel('Time \\n (a)')\n",
    "ax1.set_ylabel('Predictive Intensity')\n",
    "ax1.legend(loc='lower left', bbox_to_anchor= (0.8, 1.01), ncol=2,\n",
    "        borderaxespad=0, frameon=False)"
   ],
   "metadata": {
    "collapsed": false,
    "pycharm": {
     "name": "#%%\n"
    }
   }
  },
  {
   "cell_type": "code",
   "execution_count": 12,
   "outputs": [
    {
     "data": {
      "text/plain": "Text(0, 0.5, '$\\\\tilde{g}$')"
     },
     "execution_count": 12,
     "metadata": {},
     "output_type": "execute_result"
    },
    {
     "data": {
      "text/plain": "<Figure size 600x300 with 2 Axes>",
      "image/png": "[encoded data removed]"
     },
     "metadata": {},
     "output_type": "display_data"
    }
   ],
   "source": [
    "fig = plt.figure(figsize=(6,3))\n",
    "gs = gridspec.GridSpec(1, 2)\n",
    "gs.update(wspace=0.25, hspace=0.25)\n",
    "\n",
    "ax2 = fig.add_subplot(gs[0, 0])\n",
    "#ax2.plot(grid_s_gt, s_gt, color='C3', label='GT')\n",
    "ax2.plot(grid, s, label='inference', color='#2ca02c')\n",
    "ax2.plot(grid, s + np.sqrt(var_s), '--', color='#2ca02c', linewidth=0.9)\n",
    "ax2.plot(grid, s - np.sqrt(var_s), '--', color='#2ca02c', linewidth=0.9)\n",
    "ax2.set_xlabel('Time \\n (b)')\n",
    "ax2.set_ylabel('s')\n",
    "\n",
    "ax3 = fig.add_subplot(gs[0, 1])\n",
    "#ax3.plot(grid_g_gt, g_tilde_gt, color='C3', label='GT')\n",
    "ax3.plot(grid, g, label='inference', color='#2ca02c')\n",
    "ax3.plot(grid, g + np.sqrt(var_g), '--', color='#2ca02c', linewidth=0.9)\n",
    "ax3.plot(grid, g - np.sqrt(var_g), '--', color='#2ca02c',linewidth=0.9)\n",
    "ax3.set_xlabel('Time difference \\n (c)')\n",
    "ax3.set_ylabel(r'$\\tilde{g}$')"
   ],
   "metadata": {
    "collapsed": false,
    "pycharm": {
     "name": "#%%\n"
    }
   }
  },
  {
   "cell_type": "code",
   "execution_count": 13,
   "outputs": [],
   "source": [
    "res_path = './Scalable_VB_Hawkes/results/synthetic_data/histo_dim1/20230105-105445/inference_res.p'\n",
    "with open(res_path, 'rb') as f:\n",
    "    GP_res = pickle.load(f)\n",
    "\n",
    "# list of ELBO values along iterations, mean VP values, etc\n",
    "LB_list, mu_g_X, mu_g2_X, hyper_params_list, \\\n",
    "induced_points, integration_points, Kss_inv, ks_int_points, \\\n",
    "ks_X, real_events, Sigma_g_s, mu_g_s, lmbda_star_q1, \\\n",
    "alpha_q1, beta_q1 = GP_res"
   ],
   "metadata": {
    "collapsed": false,
    "pycharm": {
     "name": "#%%\n"
    }
   }
  },
  {
   "cell_type": "code",
   "execution_count": 14,
   "outputs": [
    {
     "data": {
      "text/plain": "[<matplotlib.lines.Line2D at 0x7f9d6841b100>]"
     },
     "execution_count": 14,
     "metadata": {},
     "output_type": "execute_result"
    },
    {
     "data": {
      "text/plain": "<Figure size 640x480 with 1 Axes>",
      "image/png": "[encoded data removed]"
     },
     "metadata": {},
     "output_type": "display_data"
    }
   ],
   "source": [
    "plt.plot(induced_points[0], mu_g_s,  color='#2ca02c')\n",
    "plt.plot(induced_points[0], mu_g_s - np.sqrt(np.diag(Sigma_g_s)), '--',  color='#2ca02c')\n",
    "plt.plot(induced_points[0], mu_g_s - np.diag(Sigma_g_s), '--',  color='#2ca02c')"
   ],
   "metadata": {
    "collapsed": false,
    "pycharm": {
     "name": "#%%\n"
    }
   }
  },
  {
   "cell_type": "code",
   "execution_count": 15,
   "outputs": [],
   "source": [
    "# General prior parameters\n",
    "mu = 0.0 # mean\n",
    "sigma= 5.0 # variance\n",
    "\n",
    "num_iter = 10 # number of VI iterations\n",
    "depth = 3 # depth of nested histogram basis\n",
    "\n",
    "num_gq = 5000 # number of Gaussian quadrature points\n",
    "threshold = 0.05"
   ],
   "metadata": {
    "collapsed": false,
    "pycharm": {
     "name": "#%%\n"
    }
   }
  },
  {
   "cell_type": "code",
   "execution_count": 16,
   "outputs": [
    {
     "ename": "TypeError",
     "evalue": "'module' object is not callable",
     "output_type": "error",
     "traceback": [
      "\u001B[0;31m---------------------------------------------------------------------------\u001B[0m",
      "\u001B[0;31mTypeError\u001B[0m                                 Traceback (most recent call last)",
      "Input \u001B[0;32mIn [16]\u001B[0m, in \u001B[0;36m<cell line: 2>\u001B[0;34m()\u001B[0m\n\u001B[1;32m      1\u001B[0m \u001B[38;5;66;03m# Run first algorithm\u001B[39;00m\n\u001B[0;32m----> 2\u001B[0m t0 \u001B[38;5;241m=\u001B[39m \u001B[43mtime\u001B[49m\u001B[43m(\u001B[49m\u001B[43m)\u001B[49m\n\u001B[1;32m      3\u001B[0m mean_nu_1, mean_weight_1, cov_1 \u001B[38;5;241m=\u001B[39m hawkes_model\u001B[38;5;241m.\u001B[39mAdaptiveVB(points_hawkes, T\u001B[38;5;241m=\u001B[39mT, num_gq\u001B[38;5;241m=\u001B[39mnum_gq, num_iter\u001B[38;5;241m=\u001B[39mnum_iter, sigma\u001B[38;5;241m=\u001B[39msigma, depth\u001B[38;5;241m=\u001B[39mdepth)\n\u001B[1;32m      4\u001B[0m mean_weight_1 \u001B[38;5;241m=\u001B[39m mean_weight_1\u001B[38;5;241m.\u001B[39mreshape(number_of_dimensions, number_of_dimensions, \u001B[38;5;241m-\u001B[39m\u001B[38;5;241m1\u001B[39m)\n",
      "\u001B[0;31mTypeError\u001B[0m: 'module' object is not callable"
     ]
    }
   ],
   "source": [
    "# Run first algorithm\n",
    "t0 = time()\n",
    "mean_nu_1, mean_weight_1, cov_1 = hawkes_model.AdaptiveVB(points_hawkes, T=T, num_gq=num_gq, num_iter=num_iter, sigma=sigma, depth=depth)\n",
    "mean_weight_1 = mean_weight_1.reshape(number_of_dimensions, number_of_dimensions, -1)\n",
    "model_1 = hawkes_model.set_of_models[np.argmax(hawkes_model.vpost_proba)]\n",
    "vi_model_1 = NonlinHawkesBasis(number_of_dimensions, model_1[1], A, model=link, basis=basis,\n",
    "                               theta=model.theta, beta=model.beta, lamda=model.lamda, eta=model.eta)\n",
    "vi_model_1.set_hawkes_parameters(mean_nu_1, mean_weight_1)\n",
    "vi_model_1.set_of_models = hawkes_model.set_of_models\n",
    "vi_model_1.vpost_proba = hawkes_model.vpost_proba\n",
    "\n",
    "print(f'Time of first VI algo: {time() - t0} sec')\n",
    "print(f'Estimated graph: ', model_1[0])\n",
    "print(f'Number of basis functions: ', model_1[1])"
   ],
   "metadata": {
    "collapsed": false,
    "pycharm": {
     "name": "#%%\n"
    }
   }
  },
  {
   "cell_type": "code",
   "execution_count": null,
   "outputs": [],
   "source": [
    "# Run second algorithm\n",
    "t0 = time()\n",
    "mean_nu_2, mean_weight_2, cov_2 = hawkes_model.FastAdaptiveVB(points_hawkes, T=T, threshold=threshold, num_gq=num_gq, num_iter=num_iter, sigma=sigma, depth=depth)\n",
    "mean_weight_2 = mean_weight_2.reshape(number_of_dimensions, number_of_dimensions, -1)\n",
    "model_2 = hawkes_model.set_of_models[np.argmax(hawkes_model.vpost_proba)]\n",
    "vi_model_2 = NonlinHawkesBasis(number_of_dimensions, model_2[1], A, model=link, basis=basis,\n",
    "                               theta=model.theta, beta=model.beta, lamda=model.lamda, eta=model.eta)\n",
    "vi_model_2.set_hawkes_parameters(mean_nu_2, mean_weight_2)\n",
    "vi_model_2.set_of_models = hawkes_model.set_of_models\n",
    "vi_model_2.vpost_proba = hawkes_model.vpost_proba\n",
    "print(f'Time of second VI algo: {time() - t0} sec')\n",
    "print(f'Estimated graph: ', model_2[0])\n",
    "print(f'Number of basis functions: ', model_2[1])"
   ],
   "metadata": {
    "collapsed": false,
    "pycharm": {
     "name": "#%%\n"
    }
   }
  },
  {
   "cell_type": "markdown",
   "source": [
    "### Visualise results"
   ],
   "metadata": {
    "collapsed": false,
    "pycharm": {
     "name": "#%% md\n"
    }
   }
  },
  {
   "cell_type": "code",
   "execution_count": null,
   "outputs": [],
   "source": [
    "# Estimated intensity using mean variational posterior estimate\n",
    "Tmax = 10\n",
    "points_hawkes_tmax = [points_hawkes[i][points_hawkes[i] < Tmax] for i in range(len(points_hawkes))]\n",
    "\n",
    "# using first VI algorithm\n",
    "vi_intensity_1, timestamps  = intensity_process(vi_model_1, points_hawkes_tmax)\n",
    "\n",
    "# using second VI algorithm\n",
    "vi_intensity_2, timestamps  = intensity_process(vi_model_2, points_hawkes_tmax)\n",
    "\n",
    "# True intensity\n",
    "true_intensity, timestamps = intensity_process(hawkes_model, points_hawkes_tmax)\n",
    "\n",
    "\n",
    "fig, ax = plt.subplots(number_of_dimensions, 1, figsize=(10, 4))\n",
    "for i in range(number_of_dimensions):\n",
    "    if number_of_dimensions > 1:\n",
    "        a = ax[i]\n",
    "    else:\n",
    "        a = ax\n",
    "    a.plot(timestamps, true_intensity[i], label=f'truth', alpha=0.8, color='tab:green', linestyle='dashed')\n",
    "    a.plot(timestamps,  vi_intensity_1[i], label=f'AVB_1', alpha=0.8, color='tab:orange')\n",
    "    a.plot(timestamps, vi_intensity_2[i], label=f'AVB_2', alpha=0.8, color='tab:blue')\n",
    "    a.set_xlabel('time')\n",
    "    a.set_ylabel(rf'$\\lambda^{i+1}_t$')\n",
    "    a.grid()\n",
    "a.legend()"
   ],
   "metadata": {
    "collapsed": false,
    "pycharm": {
     "name": "#%%\n"
    }
   }
  },
  {
   "cell_type": "code",
   "execution_count": null,
   "outputs": [],
   "source": [
    "# Estimated parameter\n",
    "\n",
    "# background rates\n",
    "fig, ax = plt.subplots(1, number_of_dimensions, figsize=(4* number_of_dimensions,3))\n",
    "for i in range(number_of_dimensions):\n",
    "    if number_of_dimensions == 1:\n",
    "        a = ax\n",
    "    else:\n",
    "        a = ax[i]\n",
    "    x = np.linspace(mean_nu_1[i]-1, mean_nu_1[i]+1, 1000)\n",
    "    q1_nu = norm.pdf(x, loc=mean_nu_1[i], scale=np.sqrt(cov_1[i][0,0]))\n",
    "    a.plot(x, q1_nu, label='AVB_1')\n",
    "    q2_nu = norm.pdf(x, loc=mean_nu_2[i], scale=np.sqrt(cov_2[i][0,0]))\n",
    "    a.plot(x, q2_nu, label='AVB_2')\n",
    "    a.set_ylim(0,max(max(q1_nu), max(q2_nu)))\n",
    "    a.vlines(x=base_activation[i], ymin=0, ymax=max(max(q1_nu), max(q2_nu)), linestyles='dashed', label='truth', color='tab:green')\n",
    "    a.legend(loc='upper left')\n",
    "    a.grid(b=True)\n",
    "    a.set_xlabel(rf'$\\nu_{i+1}$')\n",
    "\n",
    "# interaction functions\n",
    "if basis == 'fourier':\n",
    "    fb = Fourier(domain_range=[0, A], n_basis=number_of_basis,period=A)\n",
    "elif basis == 'histogram':\n",
    "    bins_true = np.linspace(0, A, num=number_of_basis+1)\n",
    "else:\n",
    "    raise ValueError\n",
    "x = np.linspace(0, A, num=100)[:-1]\n",
    "y_true = np.digitize(x, bins=bins_true) - 1\n",
    "\n",
    "bins_m1 = np.linspace(0, A, num=model_1[1]+1)\n",
    "y1 = np.digitize(x, bins=bins_m1) - 1\n",
    "bins_m2 = np.linspace(0, A, num=model_2[1]+1)\n",
    "y2 = np.digitize(x, bins=bins_m2) - 1\n",
    "\n",
    "fig, ax = plt.subplots(number_of_dimensions,number_of_dimensions , figsize=(4*number_of_dimensions,3*number_of_dimensions))\n",
    "for i in range(number_of_dimensions):\n",
    "    for j in range(number_of_dimensions):\n",
    "        if number_of_dimensions == 1:\n",
    "            a = ax\n",
    "        else:\n",
    "            a = ax[i,j]\n",
    "\n",
    "        std_w1 = np.sqrt(np.diag(cov_1[i]))[1+j*model_1[1]:1+(j+1)*model_1[1]]\n",
    "        a.plot(x, mean_weight_1[i,j][y1], label='AVB_1', color='tab:orange')\n",
    "        a.fill_between(x, (mean_weight_1[i,j] - 1.96*std_w1)[y1], (mean_weight_1[i,j] + 1.96*std_w1)[y1], alpha=0.3)\n",
    "\n",
    "        std_w2 = np.sqrt(np.diag(cov_2[i]))[1+j*model_2[1]:1+(j+1)*model_2[1]]\n",
    "        a.plot(x, mean_weight_2[i,j][y2], label='AVB_2', color='tab:blue')\n",
    "        a.fill_between(x, (mean_weight_2[i,j] - 1.96*std_w2)[y2], (mean_weight_2[i,j] + 1.96*std_w2)[y2], alpha=0.3)\n",
    "\n",
    "        a.plot(x, sparse_weight[i][j][y_true], label='truth',  color='tab:green', linestyle='dashed')\n",
    "        a.set_xlabel(r'$x$')\n",
    "        a.grid(b=True)\n",
    "        id_latex=(i+1)*10+(j+1)\n",
    "        a.set_ylabel(r'$h_{{{}}}(x)$'.format(id_latex))\n",
    "a.legend()\n"
   ],
   "metadata": {
    "collapsed": false,
    "pycharm": {
     "name": "#%%\n"
    }
   }
  },
  {
   "cell_type": "code",
   "execution_count": null,
   "outputs": [],
   "source": [
    "# 'Models' marginal probabilities\n",
    "for i,m in enumerate(vi_model_1.set_of_models):\n",
    "    if (m[0] == graph).all() and m[1] == number_of_basis:\n",
    "        true_model1 = i\n",
    "\n",
    "for i,m in enumerate(vi_model_2.set_of_models):\n",
    "    if (m[0] == graph).all() and m[1] == number_of_basis:\n",
    "        true_model2 = i\n",
    "\n",
    "fig, ax = plt.subplots(1, 1, figsize=(7, 3))\n",
    "ax.set_title(\"Algo 1: marginal probabilities\")\n",
    "ax.bar(x=range(1,len(vi_model_1.vpost_proba)+1), height=vi_model_1.vpost_proba, color='tab:blue')\n",
    "ax.scatter(x=range(1,len(vi_model_1.vpost_proba)+1), y=vi_model_1.vpost_proba, color='tab:blue')\n",
    "ax.bar(x=true_model1+1, height=vi_model_1.vpost_proba[true_model1], color='tab:green', label=\"true model\")\n",
    "ax.scatter(x=true_model1+1, y=vi_model_1.vpost_proba[true_model1], color='tab:green')\n",
    "ax.set_xlabel('model index')\n",
    "ax.set_ylabel(r'$\\hat \\gamma_{s}$')\n",
    "ax.set_ylim(-0.05, 1.1)\n",
    "ax.set_xticks(np.arange(1,len(vi_model_1.vpost_proba),5))\n",
    "ax.legend()\n",
    "\n",
    "fig, ax = plt.subplots(1, 1, figsize=(7, 3))\n",
    "ax.set_title(\"Algo 2: marginal probabilities\")\n",
    "ax.bar(x=range(1,len(vi_model_2.vpost_proba)+1), height=vi_model_2.vpost_proba, color='tab:orange')\n",
    "ax.scatter(x=range(1,len(vi_model_2.vpost_proba)+1), y=vi_model_2.vpost_proba, color='tab:orange')\n",
    "ax.bar(x=true_model2+1, height=vi_model_2.vpost_proba[true_model2], color='tab:green', label=\"true model\")\n",
    "ax.scatter(x=true_model2+1, y=vi_model_2.vpost_proba[true_model2], color='tab:green')\n",
    "ax.set_xlabel('model index')\n",
    "ax.set_ylabel(r'$\\hat \\gamma_{s}$')\n",
    "ax.set_ylim(-0.05, 1.1)\n",
    "ax.set_xticks(np.arange(1,len(vi_model_2.vpost_proba)+1,len(vi_model_2.vpost_proba)//5+1))\n",
    "ax.legend()"
   ],
   "metadata": {
    "collapsed": false,
    "pycharm": {
     "name": "#%%\n"
    }
   }
  },
  {
   "cell_type": "code",
   "execution_count": null,
   "outputs": [],
   "source": [],
   "metadata": {
    "collapsed": false,
    "pycharm": {
     "name": "#%%\n"
    }
   }
  }
 ],
 "metadata": {
  "kernelspec": {
   "name": "pymc_env",
   "language": "python",
   "display_name": "pymc_env"
  },
  "language_info": {
   "codemirror_mode": {
    "name": "ipython",
    "version": 2
   },
   "file_extension": ".py",
   "mimetype": "text/x-python",
   "name": "python",
   "nbconvert_exporter": "python",
   "pygments_lexer": "ipython2",
   "version": "2.7.6"
  }
 },
 "nbformat": 4,
 "nbformat_minor": 0
}